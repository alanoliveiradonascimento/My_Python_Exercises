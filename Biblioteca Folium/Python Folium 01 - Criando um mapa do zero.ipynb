{
 "cells": [
  {
   "cell_type": "code",
   "execution_count": null,
   "metadata": {},
   "outputs": [],
   "source": [
    "# Importando a bibilioteca para criação de mapas\n",
    "import folium\n",
    "\n",
    "# Variável com as 7 maravilhas do mundo antigo\n",
    "sete_maravilhas_nomes = ['Grande Pirâmide de Gizé',\n",
    "                         'Jardins Suspensos da Babilônia',\n",
    "                         'Templo de Ártemis',\n",
    "                         'Estátua de Zeus em Olímpia',\n",
    "                         'Mausoléu de Halicarnasso',\n",
    "                         'Colosso de Rodes',\n",
    "                         'Farol de Alexandria']\n",
    "\n",
    "# Variável com as coordenadas das 7 maravilhas (altitude e longitude)\n",
    "sete_maravilhas_coordenadas = [[29.978, 31.1344],\n",
    "                               [32.531, 44.455],\n",
    "                               [37.9455, 27.3913],\n",
    "                               [37.6336, 21.6575],\n",
    "                               [37.0336, 27.4516],\n",
    "                               [36.4468, 28.2553],\n",
    "                               [31.2094, 29.913]]\n",
    "\n",
    "# Dentro de 'Map' a primeira coisa a ser informada é o ponto central do mapa.\n",
    "# Neste exemplo a primeira coordenada será o ponto central (location)\n",
    "# O parâmetro zoom mostra o quão próximo ou quão afastado está o mapa\n",
    "# \"control scale\" mostra a escala no rodapé da janela\n",
    "\n",
    "sete_maravilhas_mapa = folium.Map(location=[29.978, 31.1344],\n",
    "                                   zoom_start=5,\n",
    "                                   control_scale=True,\n",
    "                                   tiles='cartodbpositron')\n",
    "\n",
    "\n",
    "# Adicionar as 7 maravilhas ao mapa\n",
    "# item i dentro da lista sete_maravilhas_coordenadas\n",
    "for i in range(len(sete_maravilhas_coordenadas)):\n",
    "    # A coordenada dentro da lista sete_maravilhas_coordenadas\n",
    "    coordenada = sete_maravilhas_coordenadas[i]\n",
    "    # O nome dentro da lista sete_maravilhas_nomes\n",
    "    maravilha = sete_maravilhas_nomes[i]\n",
    "    # folium.Marker - Mostra no mapa as 7 maravilhas (pins)\n",
    "    # popup: mostra os nomes das maravilhas nos pins ao clicar sobre\n",
    "    # icon=folium.Icon: altera os ícones dos pins em uso no mapa: ver mais: \"getbootstrap.com/docs/3.3/components/\"\n",
    "    folium.Marker(coordenada, popup=maravilha, icon=folium.Icon(icon='glyphicon glyphicon-camera',\n",
    "                                                                color='black',\n",
    "                                                                icon_color='white',\n",
    "                                                                prefix='glyphicon')).add_to(sete_maravilhas_mapa)\n",
    "\n",
    "# Mostra latitude e longitude ao clicar\n",
    "sete_maravilhas_mapa.add_child(folium.LatLngPopup())\n",
    "\n",
    "# Salva o mapa em um arquivo HTML dentro da pasta do programa\n",
    "sete_maravilhas_mapa.save(\"sete_maravilhas.html\")\n",
    "\n"
   ]
  }
 ],
 "metadata": {
  "kernelspec": {
   "display_name": "Python 3",
   "language": "python",
   "name": "python3"
  },
  "language_info": {
   "codemirror_mode": {
    "name": "ipython",
    "version": 3
   },
   "file_extension": ".py",
   "mimetype": "text/x-python",
   "name": "python",
   "nbconvert_exporter": "python",
   "pygments_lexer": "ipython3",
   "version": "3.10.6"
  },
  "orig_nbformat": 4,
  "vscode": {
   "interpreter": {
    "hash": "9cbb33fb0dd98d60d7542c1e0a8ec9389a1bc71302aaca21e62e688716f63114"
   }
  }
 },
 "nbformat": 4,
 "nbformat_minor": 2
}
